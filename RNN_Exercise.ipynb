{
  "nbformat": 4,
  "nbformat_minor": 0,
  "metadata": {
    "colab": {
      "provenance": [],
      "authorship_tag": "ABX9TyOdqKBP65AHUZefRjZEnBDO",
      "include_colab_link": true
    },
    "kernelspec": {
      "name": "python3",
      "display_name": "Python 3"
    },
    "language_info": {
      "name": "python"
    }
  },
  "cells": [
    {
      "cell_type": "markdown",
      "metadata": {
        "id": "view-in-github",
        "colab_type": "text"
      },
      "source": [
        "<a href=\"https://colab.research.google.com/github/ngohuy1811/AIO_Module_6/blob/main/RNN_Exercise.ipynb\" target=\"_parent\"><img src=\"https://colab.research.google.com/assets/colab-badge.svg\" alt=\"Open In Colab\"/></a>"
      ]
    },
    {
      "cell_type": "code",
      "execution_count": 4,
      "metadata": {
        "id": "yKmlXes_VL1d"
      },
      "outputs": [],
      "source": [
        "import torch\n",
        "import torch.nn as nn\n",
        "\n",
        "seed = 1\n",
        "torch .manual_seed(seed)\n",
        "\n",
        "import os\n",
        "import numpy as np\n",
        "import pandas as pd\n",
        "import matplotlib.pyplot as plt\n",
        "import re\n",
        "import nltk\n"
      ]
    },
    {
      "cell_type": "code",
      "source": [
        "!pip install unidecode\n",
        "import unidecode\n",
        "\n",
        "nltk.download('stopwords')\n",
        "from nltk.corpus import stopwords\n",
        "from nltk.stem.porter import PorterStemmer\n",
        "\n",
        "from torch.utils.data import Dataset, DataLoader\n",
        "from sklearn.model_selection import train_test_split"
      ],
      "metadata": {
        "colab": {
          "base_uri": "https://localhost:8080/"
        },
        "id": "_my5QLblWJBo",
        "outputId": "148224bf-28dd-4c89-e8ba-37f5d8493981"
      },
      "execution_count": 5,
      "outputs": [
        {
          "output_type": "stream",
          "name": "stdout",
          "text": [
            "Requirement already satisfied: unidecode in /usr/local/lib/python3.10/dist-packages (1.3.8)\n"
          ]
        },
        {
          "output_type": "stream",
          "name": "stderr",
          "text": [
            "[nltk_data] Downloading package stopwords to /root/nltk_data...\n",
            "[nltk_data]   Package stopwords is already up-to-date!\n"
          ]
        }
      ]
    },
    {
      "cell_type": "code",
      "source": [
        "!gdown 1uYXI4O3oWBA6QC8ZJ-r6yaTTfkdAnl_Q"
      ],
      "metadata": {
        "colab": {
          "base_uri": "https://localhost:8080/"
        },
        "id": "0A5_-t68Vw7D",
        "outputId": "852b1a57-38d6-4e0e-f9a5-e5a9300b904b"
      },
      "execution_count": 1,
      "outputs": [
        {
          "output_type": "stream",
          "name": "stdout",
          "text": [
            "Downloading...\n",
            "From: https://drive.google.com/uc?id=1uYXI4O3oWBA6QC8ZJ-r6yaTTfkdAnl_Q\n",
            "To: /content/dataset.zip\n",
            "\r  0% 0.00/230k [00:00<?, ?B/s]\r100% 230k/230k [00:00<00:00, 59.0MB/s]\n"
          ]
        }
      ]
    },
    {
      "cell_type": "code",
      "source": [
        "!unzip dataset.zip"
      ],
      "metadata": {
        "colab": {
          "base_uri": "https://localhost:8080/"
        },
        "id": "jvbnrNfGWfAE",
        "outputId": "413d8614-208a-4ec6-fb62-9e6a42ac7ed7"
      },
      "execution_count": 6,
      "outputs": [
        {
          "output_type": "stream",
          "name": "stdout",
          "text": [
            "Archive:  dataset.zip\n",
            "   creating: dataset/\n",
            "  inflating: dataset/all-data.csv    \n"
          ]
        }
      ]
    },
    {
      "cell_type": "code",
      "source": [
        "dataset_path = '/content/dataset/all-data.csv'\n",
        "headers = ['sentiment', 'content']\n",
        "df = pd.read_csv(\n",
        "    dataset_path,\n",
        "    names=headers,\n",
        "    encoding ='ISO-8859-1'\n",
        "\n",
        ")"
      ],
      "metadata": {
        "id": "tVSy5t-6WVNC"
      },
      "execution_count": 7,
      "outputs": []
    },
    {
      "cell_type": "code",
      "source": [
        "classes = {\n",
        "    class_name: idx for idx , class_name in enumerate(df['sentiment'].unique().tolist())\n",
        "}\n",
        "df['sentiment'] = df['sentiment'].apply(lambda x: classes[x])"
      ],
      "metadata": {
        "id": "VPacoFW5XDWT"
      },
      "execution_count": 9,
      "outputs": []
    },
    {
      "cell_type": "code",
      "source": [
        "english_stop_words = stopwords.words('english')\n",
        "stemmer = PorterStemmer()\n",
        "\n",
        "def text_normalize(text):\n",
        "    text = text.lower()\n",
        "    text = unidecode.unidecode(text)\n",
        "    text = re.sub(r'[^\\w\\s]','', text)\n",
        "    text = ' '.join([word for word in text.split (' ') if word not in english_stop_words])\n",
        "    text = ' '.join([stemmer.stem(word) for word in text.split (' ')])\n",
        "    return text"
      ],
      "metadata": {
        "id": "fbfUKRLKXlL5"
      },
      "execution_count": 10,
      "outputs": []
    },
    {
      "cell_type": "code",
      "source": [
        "df['content'] = df['content'].apply(lambda x: text_normalize(x))"
      ],
      "metadata": {
        "id": "XDmD-XPHYRIx"
      },
      "execution_count": 11,
      "outputs": []
    },
    {
      "cell_type": "code",
      "source": [
        "vocab = []\n",
        "for sentence in df['content'].tolist():\n",
        "    tokens = sentence.split()\n",
        "    for token in tokens:\n",
        "        if token not in vocab:\n",
        "            vocab.append(token)\n",
        "\n",
        "vocab.append('UNK')\n",
        "vocab.append('PAD')\n",
        "word_to_idx = {word: idx for idx, word in enumerate(vocab)}\n",
        "vocab_size = len(vocab)"
      ],
      "metadata": {
        "id": "vnFkmkRyYjI0"
      },
      "execution_count": 12,
      "outputs": []
    },
    {
      "cell_type": "code",
      "source": [
        "def transform(text , word_to_idx , max_seq_len):\n",
        "    tokens = []\n",
        "    for w in text.split():\n",
        "        try:\n",
        "            w_ids = word_to_idx[w]\n",
        "        except:\n",
        "            w_ids = word_to_idx ['UNK']\n",
        "        tokens.append(w_ids)\n",
        "\n",
        "    if len(tokens) < max_seq_len:\n",
        "        tokens += [word_to_idx['PAD']]*(max_seq_len - len(tokens))\n",
        "    elif len(tokens) > max_seq_len:\n",
        "        tokens = tokens[:max_seq_len]\n",
        "    return tokens\n"
      ],
      "metadata": {
        "id": "7ZSv6zY-blck"
      },
      "execution_count": 13,
      "outputs": []
    },
    {
      "cell_type": "code",
      "source": [
        "val_size = 0.2\n",
        "test_size = 0.125\n",
        "is_shuffle = True\n",
        "texts = df['content'].tolist()\n",
        "labels = df['sentiment'].tolist()\n",
        "\n",
        "X_train, X_val, y_train, y_val = train_test_split(\n",
        "    texts, labels,\n",
        "    test_size=val_size,\n",
        "    random_state=seed,  # Ensure `seed` is defined beforehand\n",
        "    shuffle=is_shuffle\n",
        ")\n",
        "\n",
        "X_train, X_test, y_train, y_test = train_test_split(\n",
        "    X_train, y_train,\n",
        "    test_size=val_size,  # Change to `test_size` as it’s likely meant for testing\n",
        "    random_state=seed,\n",
        "    shuffle=is_shuffle\n",
        ")"
      ],
      "metadata": {
        "id": "V9gb0WhGcdLH"
      },
      "execution_count": 14,
      "outputs": []
    },
    {
      "cell_type": "code",
      "source": [
        "class FinancialNews(Dataset):\n",
        "    def __init__(\n",
        "        self,\n",
        "        X, y,\n",
        "        word_to_idx,\n",
        "        max_seq_len,\n",
        "        transform=None\n",
        "    ):\n",
        "        self.texts = X\n",
        "        self.labels = y\n",
        "        self.word_to_idx = word_to_idx\n",
        "        self.max_seq_len = max_seq_len\n",
        "        self.transform = transform\n",
        "\n",
        "    def __len__(self):\n",
        "        return len(self.texts)\n",
        "\n",
        "    def __getitem__(self, idx):\n",
        "        text = self.texts[idx]\n",
        "        label = self.labels[idx]\n",
        "\n",
        "        if self.transform:\n",
        "            text = self.transform(\n",
        "                text,\n",
        "                self.word_to_idx,\n",
        "                self.max_seq_len\n",
        "            )\n",
        "        text = torch.tensor(text)\n",
        "\n",
        "        return text, label"
      ],
      "metadata": {
        "id": "n_4FgNZMdOG8"
      },
      "execution_count": 15,
      "outputs": []
    },
    {
      "cell_type": "code",
      "source": [
        "max_seq_len = 32\n",
        "\n",
        "train_dataset = FinancialNews(\n",
        "    X_train, y_train,\n",
        "    word_to_idx=word_to_idx,\n",
        "    max_seq_len=max_seq_len,\n",
        "    transform=transform\n",
        ")\n",
        "val_dataset = FinancialNews(\n",
        "    X_val, y_val,\n",
        "    word_to_idx=word_to_idx,\n",
        "    max_seq_len=max_seq_len,\n",
        "    transform=transform\n",
        ")\n",
        "test_dataset = FinancialNews(\n",
        "    X_test, y_test,\n",
        "    word_to_idx=word_to_idx,\n",
        "    max_seq_len=max_seq_len,\n",
        "    transform=transform\n",
        ")\n",
        "\n",
        "train_batch_size = 128\n",
        "test_batch_size = 8\n",
        "\n",
        "train_loader = DataLoader(\n",
        "    train_dataset,\n",
        "    batch_size=train_batch_size,\n",
        "    shuffle=True\n",
        ")\n",
        "val_loader = DataLoader(\n",
        "    val_dataset,\n",
        "    batch_size=test_batch_size,\n",
        "    shuffle=False\n",
        ")\n",
        "test_loader = DataLoader(\n",
        "    test_dataset,\n",
        "    batch_size=test_batch_size,\n",
        "    shuffle=False\n",
        ")"
      ],
      "metadata": {
        "id": "1EMbpfiEdkXI"
      },
      "execution_count": 16,
      "outputs": []
    },
    {
      "cell_type": "code",
      "source": [
        "class SentimentClassifier(nn.Module):\n",
        "    def __init__(\n",
        "        self, vocab_size, embedding_dim,\n",
        "        hidden_size, n_layers, n_classes,\n",
        "        dropout_prob\n",
        "    ):\n",
        "        super().__init__()\n",
        "        self.embedding = nn.Embedding(vocab_size, embedding_dim)\n",
        "        self.rnn = nn.RNN(embedding_dim, hidden_size, n_layers, batch_first=True)\n",
        "        self.norm = nn.LayerNorm(hidden_size)\n",
        "        self.dropout = nn.Dropout(dropout_prob)\n",
        "        self.fc1 = nn.Linear(hidden_size, 16)\n",
        "        self.relu = nn.ReLU()\n",
        "        self.fc2 = nn.Linear(16, n_classes)\n",
        "\n",
        "    def forward(self, x):\n",
        "        x = self.embedding(x)\n",
        "        x, hn = self.rnn(x)\n",
        "        x = x[:, -1, :]\n",
        "        x = self.norm(x)\n",
        "        x = self.dropout(x)\n",
        "        x = self.fc1(x)\n",
        "        x = self.relu(x)\n",
        "        x = self.fc2(x)\n",
        "        return x"
      ],
      "metadata": {
        "id": "pG0BboT0d7-x"
      },
      "execution_count": 17,
      "outputs": []
    },
    {
      "cell_type": "code",
      "source": [
        "n_classes = len(list(classes.keys()))\n",
        "embedding_dim = 64\n",
        "hidden_size = 64\n",
        "n_layers = 2\n",
        "dropout_prob = 0.2\n",
        "device = 'cuda' if torch.cuda.is_available() else 'cpu'\n",
        "\n",
        "model = SentimentClassifier(\n",
        "    vocab_size=vocab_size,\n",
        "    embedding_dim=embedding_dim,\n",
        "    hidden_size=hidden_size,\n",
        "    n_layers=n_layers,\n",
        "    n_classes=n_classes,\n",
        "    dropout_prob=dropout_prob\n",
        ").to(device)"
      ],
      "metadata": {
        "id": "DXpQ0OqjeQ0F"
      },
      "execution_count": 18,
      "outputs": []
    },
    {
      "cell_type": "code",
      "source": [
        "lr = 1e-4\n",
        "epochs = 50\n",
        "\n",
        "criterion = nn.CrossEntropyLoss()\n",
        "optimizer = torch.optim.Adam(model.parameters(), lr=lr)"
      ],
      "metadata": {
        "id": "Xxxe5MNBeZ11"
      },
      "execution_count": 21,
      "outputs": []
    },
    {
      "cell_type": "code",
      "source": [
        "def fit(\n",
        "    model,\n",
        "    train_loader,\n",
        "    val_loader,\n",
        "    criterion,\n",
        "    optimizer,\n",
        "    device,\n",
        "    epochs\n",
        "):\n",
        "    train_losses = []\n",
        "    val_losses = []\n",
        "\n",
        "    for epoch in range(epochs):\n",
        "        batch_train_losses = []\n",
        "        model.train()\n",
        "        for idx, (inputs, labels) in enumerate(train_loader):\n",
        "            inputs, labels = inputs.to(device), labels.to(device)\n",
        "\n",
        "            optimizer.zero_grad()\n",
        "            outputs = model(inputs)\n",
        "            loss = criterion(outputs, labels)\n",
        "            loss.backward()\n",
        "            optimizer.step()\n",
        "\n",
        "            batch_train_losses.append(loss.item())\n",
        "\n",
        "        train_loss = sum(batch_train_losses) / len(batch_train_losses)\n",
        "        train_losses.append(train_loss)\n",
        "\n",
        "        val_loss, val_acc = evaluate(\n",
        "            model, val_loader,\n",
        "            criterion, device\n",
        "        )\n",
        "        val_losses.append(val_loss)\n",
        "\n",
        "        print(f\"EPOCH {epoch + 1}:\\tTrain loss: {train_loss:.4f}\\tVal loss: {val_loss:.4f}\")\n",
        "\n",
        "    return train_losses, val_losses\n",
        "\n",
        "\n",
        "def evaluate(model, dataloader, criterion, device):\n",
        "    model.eval()\n",
        "    correct = 0\n",
        "    total = 0\n",
        "    losses = []\n",
        "    with torch.no_grad():\n",
        "        for inputs, labels in dataloader:\n",
        "            inputs, labels = inputs.to(device), labels.to(device)\n",
        "            outputs = model(inputs)\n",
        "            loss = criterion(outputs, labels)\n",
        "            losses.append(loss.item())\n",
        "            _, predicted = torch.max(outputs.data, 1)\n",
        "            total += labels.size(0)\n",
        "            correct += (predicted == labels).sum().item()\n",
        "\n",
        "    loss = sum(losses) / len(losses)\n",
        "    acc = correct / total\n",
        "\n",
        "    return loss, acc\n",
        "\n",
        "\n",
        "train_losses, val_losses = fit(\n",
        "    model,\n",
        "    train_loader,\n",
        "    val_loader,\n",
        "    criterion,\n",
        "    optimizer,\n",
        "    device,\n",
        "    epochs\n",
        ")\n",
        "\n",
        "val_loss, val_acc = evaluate(\n",
        "    model,\n",
        "    val_loader,\n",
        "    criterion,\n",
        "    device\n",
        ")\n",
        "\n",
        "test_loss, test_acc = evaluate(\n",
        "    model,\n",
        "    test_loader,\n",
        "    criterion,\n",
        "    device\n",
        ")\n",
        "\n",
        "print(\"Evaluation on val/test dataset\")\n",
        "print(\"Val accuracy:\", val_acc)\n",
        "print(\"Test accuracy:\", test_acc)"
      ],
      "metadata": {
        "colab": {
          "base_uri": "https://localhost:8080/"
        },
        "id": "GCItr9MtelCK",
        "outputId": "31b9bc4a-5c17-42b9-ce33-40aa5a9d49d1"
      },
      "execution_count": 22,
      "outputs": [
        {
          "output_type": "stream",
          "name": "stdout",
          "text": [
            "EPOCH 1:\tTrain loss: 1.0049\tVal loss: 0.9591\n",
            "EPOCH 2:\tTrain loss: 0.9462\tVal loss: 0.9344\n",
            "EPOCH 3:\tTrain loss: 0.9361\tVal loss: 0.9299\n",
            "EPOCH 4:\tTrain loss: 0.9320\tVal loss: 0.9289\n",
            "EPOCH 5:\tTrain loss: 0.9316\tVal loss: 0.9285\n",
            "EPOCH 6:\tTrain loss: 0.9305\tVal loss: 0.9282\n",
            "EPOCH 7:\tTrain loss: 0.9274\tVal loss: 0.9281\n",
            "EPOCH 8:\tTrain loss: 0.9307\tVal loss: 0.9281\n",
            "EPOCH 9:\tTrain loss: 0.9286\tVal loss: 0.9280\n",
            "EPOCH 10:\tTrain loss: 0.9340\tVal loss: 0.9281\n",
            "EPOCH 11:\tTrain loss: 0.9317\tVal loss: 0.9282\n",
            "EPOCH 12:\tTrain loss: 0.9353\tVal loss: 0.9279\n",
            "EPOCH 13:\tTrain loss: 0.9335\tVal loss: 0.9280\n",
            "EPOCH 14:\tTrain loss: 0.9363\tVal loss: 0.9279\n",
            "EPOCH 15:\tTrain loss: 0.9261\tVal loss: 0.9278\n",
            "EPOCH 16:\tTrain loss: 0.9285\tVal loss: 0.9279\n",
            "EPOCH 17:\tTrain loss: 0.9348\tVal loss: 0.9282\n",
            "EPOCH 18:\tTrain loss: 0.9327\tVal loss: 0.9276\n",
            "EPOCH 19:\tTrain loss: 0.9350\tVal loss: 0.9275\n",
            "EPOCH 20:\tTrain loss: 0.9282\tVal loss: 0.9276\n",
            "EPOCH 21:\tTrain loss: 0.9353\tVal loss: 0.9277\n",
            "EPOCH 22:\tTrain loss: 0.9292\tVal loss: 0.9278\n",
            "EPOCH 23:\tTrain loss: 0.9352\tVal loss: 0.9278\n",
            "EPOCH 24:\tTrain loss: 0.9310\tVal loss: 0.9277\n",
            "EPOCH 25:\tTrain loss: 0.9238\tVal loss: 0.9273\n",
            "EPOCH 26:\tTrain loss: 0.9311\tVal loss: 0.9267\n",
            "EPOCH 27:\tTrain loss: 0.9338\tVal loss: 0.9273\n",
            "EPOCH 28:\tTrain loss: 0.9360\tVal loss: 0.9270\n",
            "EPOCH 29:\tTrain loss: 0.9239\tVal loss: 0.9262\n",
            "EPOCH 30:\tTrain loss: 0.9278\tVal loss: 0.9258\n",
            "EPOCH 31:\tTrain loss: 0.9200\tVal loss: 0.9259\n",
            "EPOCH 32:\tTrain loss: 0.9268\tVal loss: 0.9248\n",
            "EPOCH 33:\tTrain loss: 0.9250\tVal loss: 0.9248\n",
            "EPOCH 34:\tTrain loss: 0.9263\tVal loss: 0.9242\n",
            "EPOCH 35:\tTrain loss: 0.9221\tVal loss: 0.9231\n",
            "EPOCH 36:\tTrain loss: 0.9090\tVal loss: 0.9235\n",
            "EPOCH 37:\tTrain loss: 0.8998\tVal loss: 0.9186\n",
            "EPOCH 38:\tTrain loss: 0.8688\tVal loss: 0.8883\n",
            "EPOCH 39:\tTrain loss: 0.8655\tVal loss: 0.8943\n",
            "EPOCH 40:\tTrain loss: 0.8515\tVal loss: 0.8833\n",
            "EPOCH 41:\tTrain loss: 0.8448\tVal loss: 0.8787\n",
            "EPOCH 42:\tTrain loss: 0.8306\tVal loss: 0.9285\n",
            "EPOCH 43:\tTrain loss: 0.8414\tVal loss: 0.8874\n",
            "EPOCH 44:\tTrain loss: 0.8358\tVal loss: 0.9159\n",
            "EPOCH 45:\tTrain loss: 0.8236\tVal loss: 0.8717\n",
            "EPOCH 46:\tTrain loss: 0.8169\tVal loss: 0.8681\n",
            "EPOCH 47:\tTrain loss: 0.8215\tVal loss: 0.8992\n",
            "EPOCH 48:\tTrain loss: 0.7961\tVal loss: 0.8694\n",
            "EPOCH 49:\tTrain loss: 0.8066\tVal loss: 0.9230\n",
            "EPOCH 50:\tTrain loss: 0.8021\tVal loss: 0.8979\n",
            "Evaluation on val/test dataset\n",
            "Val accuracy: 0.6144329896907217\n",
            "Test accuracy: 0.6095360824742269\n"
          ]
        }
      ]
    },
    {
      "cell_type": "markdown",
      "source": [
        "# **Hourly Temperature Forecasting**"
      ],
      "metadata": {
        "id": "zaBXQMjAfpf1"
      }
    },
    {
      "cell_type": "code",
      "source": [
        "import torch\n",
        "import torch.nn as nn\n",
        "\n",
        "# Set the random seed for reproducibility\n",
        "seed = 1\n",
        "torch.manual_seed(seed)\n",
        "\n",
        "# Importing additional libraries\n",
        "import numpy as np\n",
        "import pandas as pd\n",
        "import matplotlib.pyplot as plt\n",
        "\n",
        "from torch.utils.data import Dataset, DataLoader"
      ],
      "metadata": {
        "id": "uSvg7qbwfsyc"
      },
      "execution_count": 23,
      "outputs": []
    },
    {
      "cell_type": "code",
      "source": [
        "!gdown 178YSDYmlRh54IcxStgYA3UyKFRM9-3DO"
      ],
      "metadata": {
        "colab": {
          "base_uri": "https://localhost:8080/"
        },
        "id": "dJJSl_Drgbks",
        "outputId": "d0545aa8-4b27-4667-eb1a-c1c2f2252437"
      },
      "execution_count": 24,
      "outputs": [
        {
          "output_type": "stream",
          "name": "stdout",
          "text": [
            "Downloading...\n",
            "From: https://drive.google.com/uc?id=178YSDYmlRh54IcxStgYA3UyKFRM9-3DO\n",
            "To: /content/dataset.zip\n",
            "\r  0% 0.00/2.35M [00:00<?, ?B/s]\r100% 2.35M/2.35M [00:00<00:00, 165MB/s]\n"
          ]
        }
      ]
    },
    {
      "cell_type": "code",
      "source": [
        "!unzip /content/dataset.zip"
      ],
      "metadata": {
        "colab": {
          "base_uri": "https://localhost:8080/"
        },
        "id": "zVMBjhu7g5El",
        "outputId": "121a9c5f-edf9-47f3-a2b8-0993e3344aa6"
      },
      "execution_count": 25,
      "outputs": [
        {
          "output_type": "stream",
          "name": "stdout",
          "text": [
            "Archive:  /content/dataset.zip\n",
            "  inflating: dataset/weatherHistory.csv  \n"
          ]
        }
      ]
    },
    {
      "cell_type": "code",
      "source": [
        "dataset_filepath = '/content/dataset/weatherHistory.csv'\n",
        "df = pd.read_csv(dataset_filepath)"
      ],
      "metadata": {
        "id": "y3tbSAjvhFjs"
      },
      "execution_count": 26,
      "outputs": []
    },
    {
      "cell_type": "code",
      "source": [
        "univariate_df = df['Temperature (C)']\n",
        "univariate_df.index = pd.to_datetime(df['Formatted Date'])"
      ],
      "metadata": {
        "colab": {
          "base_uri": "https://localhost:8080/"
        },
        "id": "LvcqgyzehOWH",
        "outputId": "74fb481c-f9fb-4483-8a73-37a7f8a6e8e2"
      },
      "execution_count": 27,
      "outputs": [
        {
          "output_type": "stream",
          "name": "stderr",
          "text": [
            "<ipython-input-27-4f54b223719a>:2: FutureWarning: In a future version of pandas, parsing datetimes with mixed time zones will raise an error unless `utc=True`. Please specify `utc=True` to opt in to the new behaviour and silence this warning. To create a `Series` with mixed offsets and `object` dtype, please use `apply` and `datetime.datetime.strptime`\n",
            "  univariate_df.index = pd.to_datetime(df['Formatted Date'])\n"
          ]
        }
      ]
    },
    {
      "cell_type": "code",
      "source": [
        "input_size = 6\n",
        "label_size = 1\n",
        "offset = 1\n",
        "\n",
        "def slicing_window(df, df_start_idx, df_end_idx, input_size, label_size, offset):\n",
        "    features = []\n",
        "    labels = []\n",
        "\n",
        "    window_size = input_size + offset\n",
        "\n",
        "    if df_end_idx == None:\n",
        "        df_end_idx = len(df) - window_size\n",
        "\n",
        "    for idx in range(df_start_idx, df_end_idx):\n",
        "        feature_end_idx = idx + input_size\n",
        "        label_start_idx = idx + window_size - label_size\n",
        "\n",
        "        feature = df[idx:feature_end_idx]\n",
        "        label = df[label_start_idx:(idx + window_size)]\n",
        "\n",
        "        features.append(feature)\n",
        "        labels.append(label)\n",
        "\n",
        "    features = np.expand_dims(np.array(features), -1)\n",
        "    labels = np.array(labels)\n",
        "\n",
        "    return features, labels"
      ],
      "metadata": {
        "id": "8qYGT_BZhVf0"
      },
      "execution_count": 28,
      "outputs": []
    },
    {
      "cell_type": "code",
      "source": [
        "dataset_length = len(univariate_df)\n",
        "train_size = 0.7\n",
        "val_size = 0.2\n",
        "\n",
        "train_end_idx = int(train_size * dataset_length)\n",
        "val_end_idx = int(val_size * dataset_length) + train_end_idx\n",
        "\n",
        "X_train, y_train = slicing_window(\n",
        "    univariate_df,\n",
        "    df_start_idx=0,\n",
        "    df_end_idx=train_end_idx,\n",
        "    input_size=input_size,\n",
        "    label_size=label_size,\n",
        "    offset=offset\n",
        ")\n",
        "\n",
        "X_val, y_val = slicing_window(\n",
        "    univariate_df,\n",
        "    df_start_idx=train_end_idx,\n",
        "    df_end_idx=val_end_idx,\n",
        "    input_size=input_size,\n",
        "    label_size=label_size,\n",
        "    offset=offset\n",
        ")\n",
        "\n",
        "X_test, y_test = slicing_window(\n",
        "    univariate_df,\n",
        "    df_start_idx=val_end_idx,\n",
        "    df_end_idx=None,\n",
        "    input_size=input_size,\n",
        "    label_size=label_size,\n",
        "    offset=offset\n",
        ")"
      ],
      "metadata": {
        "id": "d_Rkq42Dhpa-"
      },
      "execution_count": 29,
      "outputs": []
    },
    {
      "cell_type": "code",
      "source": [
        "class WeatherForecast(Dataset):\n",
        "    def __init__(self, X, y, transform=None):\n",
        "        self.X = X\n",
        "        self.y = y\n",
        "        self.transform = transform\n",
        "\n",
        "    def __len__(self):\n",
        "        return len(self.X)\n",
        "\n",
        "    def __getitem__(self, idx):\n",
        "        X = self.X[idx]\n",
        "        y = self.y[idx]\n",
        "\n",
        "        if self.transform:\n",
        "            X = self.transform(X)\n",
        "\n",
        "        X = torch.tensor(X, dtype=torch.float32)\n",
        "        y = torch.tensor(y, dtype=torch.float32)\n",
        "\n",
        "        return X, y"
      ],
      "metadata": {
        "id": "HQ9PN1g8h3jX"
      },
      "execution_count": 30,
      "outputs": []
    },
    {
      "cell_type": "code",
      "source": [
        "train_dataset = WeatherForecast(\n",
        "    X_train, y_train\n",
        ")\n",
        "val_dataset = WeatherForecast(\n",
        "    X_val, y_val\n",
        ")\n",
        "test_dataset = WeatherForecast(\n",
        "    X_test, y_test\n",
        ")\n",
        "\n",
        "train_batch_size = 128\n",
        "test_batch_size = 8\n",
        "\n",
        "train_loader = DataLoader(\n",
        "    train_dataset,\n",
        "    batch_size=train_batch_size,\n",
        "    shuffle=True\n",
        ")\n",
        "val_loader = DataLoader(\n",
        "    val_dataset,\n",
        "    batch_size=test_batch_size,\n",
        "    shuffle=False\n",
        ")\n",
        "test_loader = DataLoader(\n",
        "    test_dataset,\n",
        "    batch_size=test_batch_size,\n",
        "    shuffle=False\n",
        ")"
      ],
      "metadata": {
        "id": "qD8DeWeKiISr"
      },
      "execution_count": 31,
      "outputs": []
    },
    {
      "cell_type": "code",
      "source": [
        "class WeatherForecastor(nn.Module):\n",
        "    def __init__(self, embedding_dim, hidden_size, n_layers, dropout_prob):\n",
        "        super(WeatherForecastor, self).__init__()\n",
        "        self.rnn = nn.RNN(embedding_dim, hidden_size, n_layers, batch_first=True)\n",
        "        self.norm = nn.LayerNorm(hidden_size)\n",
        "        self.dropout = nn.Dropout(dropout_prob)\n",
        "        self.fc = nn.Linear(hidden_size, 1)\n",
        "\n",
        "    def forward(self, x):\n",
        "        x, hn = self.rnn(x)\n",
        "        x = x[:, -1, :]  # Extract the last output from the RNN\n",
        "        x = self.norm(x)\n",
        "        x = self.dropout(x)\n",
        "        x = self.fc(x)\n",
        "        return x"
      ],
      "metadata": {
        "id": "vS8-eMIViSnz"
      },
      "execution_count": 32,
      "outputs": []
    },
    {
      "cell_type": "code",
      "source": [
        "embedding_dim = 1\n",
        "hidden_size = 8\n",
        "n_layers = 3\n",
        "dropout_prob = 0.2\n",
        "device = 'cuda' if torch.cuda.is_available() else 'cpu'\n",
        "\n",
        "model = WeatherForecastor(\n",
        "    embedding_dim=embedding_dim,\n",
        "    hidden_size=hidden_size,\n",
        "    n_layers=n_layers,\n",
        "    dropout_prob=dropout_prob\n",
        ").to(device)"
      ],
      "metadata": {
        "id": "Yu0DO8EtilBc"
      },
      "execution_count": 33,
      "outputs": []
    },
    {
      "cell_type": "code",
      "source": [
        "lr = 1e-3  # Learning rate\n",
        "epochs = 50\n",
        "\n",
        "criterion = nn.MSELoss()\n",
        "optimizer = torch.optim.Adam(\n",
        "    model.parameters(),\n",
        "    lr=lr\n",
        ")"
      ],
      "metadata": {
        "id": "w137D1M2i5il"
      },
      "execution_count": 34,
      "outputs": []
    },
    {
      "cell_type": "code",
      "source": [
        "train_losses, val_losses = fit(\n",
        "    model,\n",
        "    train_loader,\n",
        "    val_loader,\n",
        "    criterion,\n",
        "    optimizer,\n",
        "    device,\n",
        "    epochs\n",
        ")"
      ],
      "metadata": {
        "colab": {
          "base_uri": "https://localhost:8080/"
        },
        "id": "fRoB06UujEFE",
        "outputId": "87b511d3-0635-4f35-ed9b-d4b0c7502b59"
      },
      "execution_count": 35,
      "outputs": [
        {
          "output_type": "stream",
          "name": "stdout",
          "text": [
            "EPOCH 1:\tTrain loss: 126.5261\tVal loss: 40.6979\n",
            "EPOCH 2:\tTrain loss: 29.9595\tVal loss: 7.4822\n",
            "EPOCH 3:\tTrain loss: 16.1813\tVal loss: 3.5673\n",
            "EPOCH 4:\tTrain loss: 13.1765\tVal loss: 3.0718\n",
            "EPOCH 5:\tTrain loss: 11.5970\tVal loss: 2.0178\n",
            "EPOCH 6:\tTrain loss: 10.7809\tVal loss: 2.3695\n",
            "EPOCH 7:\tTrain loss: 10.0049\tVal loss: 2.7381\n",
            "EPOCH 8:\tTrain loss: 9.5437\tVal loss: 2.0497\n",
            "EPOCH 9:\tTrain loss: 9.4036\tVal loss: 1.8293\n",
            "EPOCH 10:\tTrain loss: 9.0557\tVal loss: 1.9996\n",
            "EPOCH 11:\tTrain loss: 9.0126\tVal loss: 1.5838\n",
            "EPOCH 12:\tTrain loss: 8.7332\tVal loss: 1.8631\n",
            "EPOCH 13:\tTrain loss: 8.6026\tVal loss: 1.9579\n",
            "EPOCH 14:\tTrain loss: 8.3403\tVal loss: 1.6885\n",
            "EPOCH 15:\tTrain loss: 8.2734\tVal loss: 1.9796\n",
            "EPOCH 16:\tTrain loss: 8.0663\tVal loss: 2.1195\n",
            "EPOCH 17:\tTrain loss: 7.8379\tVal loss: 1.6398\n",
            "EPOCH 18:\tTrain loss: 7.7163\tVal loss: 1.6172\n",
            "EPOCH 19:\tTrain loss: 7.6191\tVal loss: 1.6292\n",
            "EPOCH 20:\tTrain loss: 7.4775\tVal loss: 1.8229\n",
            "EPOCH 21:\tTrain loss: 7.3221\tVal loss: 1.6151\n",
            "EPOCH 22:\tTrain loss: 7.1017\tVal loss: 1.4764\n",
            "EPOCH 23:\tTrain loss: 7.0805\tVal loss: 1.5689\n",
            "EPOCH 24:\tTrain loss: 6.8751\tVal loss: 1.6785\n",
            "EPOCH 25:\tTrain loss: 6.7295\tVal loss: 1.5444\n",
            "EPOCH 26:\tTrain loss: 6.7064\tVal loss: 1.5918\n",
            "EPOCH 27:\tTrain loss: 6.5104\tVal loss: 1.5277\n",
            "EPOCH 28:\tTrain loss: 6.4638\tVal loss: 1.6160\n",
            "EPOCH 29:\tTrain loss: 6.3892\tVal loss: 1.6330\n",
            "EPOCH 30:\tTrain loss: 6.4342\tVal loss: 1.5141\n",
            "EPOCH 31:\tTrain loss: 6.3062\tVal loss: 1.6529\n",
            "EPOCH 32:\tTrain loss: 6.1975\tVal loss: 1.5560\n",
            "EPOCH 33:\tTrain loss: 6.2111\tVal loss: 1.5455\n",
            "EPOCH 34:\tTrain loss: 6.1257\tVal loss: 1.5698\n",
            "EPOCH 35:\tTrain loss: 6.0597\tVal loss: 1.6033\n",
            "EPOCH 36:\tTrain loss: 6.0288\tVal loss: 1.4451\n",
            "EPOCH 37:\tTrain loss: 6.0359\tVal loss: 1.5182\n",
            "EPOCH 38:\tTrain loss: 5.9298\tVal loss: 1.4846\n",
            "EPOCH 39:\tTrain loss: 5.8433\tVal loss: 1.4619\n",
            "EPOCH 40:\tTrain loss: 5.7984\tVal loss: 1.6284\n",
            "EPOCH 41:\tTrain loss: 5.7324\tVal loss: 1.5270\n",
            "EPOCH 42:\tTrain loss: 5.7245\tVal loss: 1.6252\n",
            "EPOCH 43:\tTrain loss: 5.7284\tVal loss: 1.7898\n",
            "EPOCH 44:\tTrain loss: 5.6481\tVal loss: 1.7091\n",
            "EPOCH 45:\tTrain loss: 5.7157\tVal loss: 1.5794\n",
            "EPOCH 46:\tTrain loss: 5.6277\tVal loss: 1.4708\n",
            "EPOCH 47:\tTrain loss: 5.7337\tVal loss: 1.4890\n",
            "EPOCH 48:\tTrain loss: 5.5876\tVal loss: 1.4646\n",
            "EPOCH 49:\tTrain loss: 5.6095\tVal loss: 1.9665\n",
            "EPOCH 50:\tTrain loss: 5.6269\tVal loss: 1.5435\n"
          ]
        }
      ]
    },
    {
      "cell_type": "code",
      "source": [
        "import matplotlib.pyplot as plt\n",
        "\n",
        "plt.plot(train_losses, label='Train Loss')\n",
        "plt.plot(val_losses, label='Validation Loss')\n",
        "plt.xlabel('Epoch')\n",
        "plt.ylabel('Loss')\n",
        "plt.legend()\n",
        "plt.show()"
      ],
      "metadata": {
        "colab": {
          "base_uri": "https://localhost:8080/",
          "height": 449
        },
        "id": "LODRPFiJkfMB",
        "outputId": "76cff04f-fc85-4962-9a10-dede318ab784"
      },
      "execution_count": 36,
      "outputs": [
        {
          "output_type": "display_data",
          "data": {
            "text/plain": [
              "<Figure size 640x480 with 1 Axes>"
            ],
            "image/png": "[encoded data removed]"
          },
          "metadata": {}
        }
      ]
    },
    {
      "cell_type": "code",
      "source": [
        "val_loss = evaluate(\n",
        "    model,\n",
        "    val_loader,\n",
        "    criterion,\n",
        "    device\n",
        ")\n",
        "test_loss = evaluate(\n",
        "    model,\n",
        "    test_loader,\n",
        "    criterion,\n",
        "    device\n",
        ")\n",
        "\n",
        "print(\"Evaluation on val/test dataset\")\n",
        "print(\"Val loss:\", val_loss)\n",
        "print(\"Test loss:\", test_loss)"
      ],
      "metadata": {
        "colab": {
          "base_uri": "https://localhost:8080/"
        },
        "id": "v7GI93ZTkiR9",
        "outputId": "789653c6-5923-4259-e21e-bf18ad372681"
      },
      "execution_count": 37,
      "outputs": [
        {
          "output_type": "stream",
          "name": "stdout",
          "text": [
            "Evaluation on val/test dataset\n",
            "Val loss: (1.5434581463844523, 0.005391394504924832)\n",
            "Test loss: (1.3666194923376642, 0.006639692914202718)\n"
          ]
        }
      ]
    },
    {
      "cell_type": "code",
      "source": [
        "def plot_difference(y, pred):\n",
        "    plt.figure(figsize=(20, 6))\n",
        "    times = range(len(y))\n",
        "    y_to_plot = y.flatten()\n",
        "    pred_to_plot = pred.flatten()\n",
        "\n",
        "    plt.plot(times, y_to_plot, color='steelblue', marker='o', label='True value')\n",
        "    plt.plot(times, pred_to_plot, color='orangered', marker='X', label='Prediction')\n",
        "\n",
        "    plt.title('Temperature in every hour')\n",
        "    plt.xlabel('Hour')\n",
        "    plt.ylabel('Temperature (C)')\n",
        "    plt.legend()\n",
        "    plt.show()\n",
        "\n",
        "inputs = torch.tensor(X_test[:100], dtype=torch.float32).to(device)\n",
        "model.eval()\n",
        "with torch.no_grad():\n",
        "    outputs = model(inputs).detach().cpu().numpy()\n",
        "\n",
        "plot_difference(y_test[:100], outputs)"
      ],
      "metadata": {
        "colab": {
          "base_uri": "https://localhost:8080/",
          "height": 297
        },
        "id": "izyiMVtmktJ6",
        "outputId": "65b2d165-223a-4e64-e454-032b834eb51d"
      },
      "execution_count": 38,
      "outputs": [
        {
          "output_type": "display_data",
          "data": {
            "text/plain": [
              "<Figure size 2000x600 with 1 Axes>"
            ],
            "image/png": "[encoded data removed]"
          },
          "metadata": {}
        }
      ]
    }
  ]
}